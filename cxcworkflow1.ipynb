{
 "cells": [
  {
   "cell_type": "markdown",
   "metadata": {},
   "source": [
    "Search observations by instrument or grating."
   ]
  },
  {
   "cell_type": "code",
   "execution_count": null,
   "metadata": {
    "collapsed": false
   },
   "outputs": [],
   "source": [
    "import numpy as np\n",
    "import pandas as pd\n",
    "import matplotlib.pyplot as plt\n",
    "import urllib.parse\n",
    "import urllib.request\n",
    "from IPython.display import display, HTML\n",
    "# import shutil\n",
    "import re\n",
    "from astropy.io import fits\n",
    "\n",
    "\n",
    "url = 'http://cda.cfa.harvard.edu/srservices/ocatList.do'\n",
    "values = { 'format' : 'text',\n",
    "           'instrument' : 'ACIS',\n",
    "           'grating' : 'NONE',\n",
    "           'lon' : '350.8',\n",
    "           'lat' : '58.8',\n",
    "           'radius' : '10.0',\n",
    "           'type' : 'GO,GTO',\n",
    "           'expTime' : '100-200',\n",
    "           'status' : 'archived'\n",
    "         }\n",
    "\n",
    "data = urllib.parse.urlencode(values).encode('ascii')\n",
    "req = urllib.request.Request(url, data)\n",
    "\n",
    "with urllib.request.urlopen(req) as response:\n",
    "  responseStr = response.read()\n",
    "\n",
    "lines=[s.split('\\t') for s in str(responseStr,'utf-8').splitlines()]\n",
    "while len(lines[0]) == 1:\n",
    "  lines.pop(0)\n",
    "\n",
    "pd.set_option(\"display.max_rows\", 1000)\n",
    "pd.set_option(\"display.max_columns\", 50)\n",
    "df = pd.DataFrame.from_records(lines[2:], columns=lines[0])\n",
    "display(df)\n",
    "\n"
   ]
  },
  {
   "cell_type": "code",
   "execution_count": null,
   "metadata": {
    "collapsed": false
   },
   "outputs": [],
   "source": [
    "url = 'http://cda.cfa.harvard.edu/srservices/archiveFileList.do'\n",
    "values = { 'dataset' : 'flight',\n",
    "           'detector' : 'acis',\n",
    "           'level' : '2',\n",
    "           'filetype' : 'hiresimg',\n",
    "           'obsid' : '4634'\n",
    "         }\n",
    "\n",
    "data = urllib.parse.urlencode(values).encode('ascii')\n",
    "req = urllib.request.Request(url, data\n",
    "with urllib.request.urlopen(req) as response:\n",
    "  responseBytes = response.read()\n",
    "\n",
    "lines=[s.split('\\t') for s in str(responseBytes,'utf-8').splitlines()]\n",
    "\n",
    "df = pd.DataFrame.from_records(lines[1:], columns=lines[0])\n",
    "display(df)\n"
   ]
  },
  {
   "cell_type": "code",
   "execution_count": null,
   "metadata": {
    "collapsed": false
   },
   "outputs": [],
   "source": [
    "url = 'http://cda.cfa.harvard.edu/srservices/archiveFile.do'\n",
    "values = { 'dataset' : 'flight',\n",
    "           'detector' : 'acis',\n",
    "           'level' : '2',\n",
    "           'filetype' : 'hiresimg',\n",
    "           'obsid' : '4634'\n",
    "         }\n",
    "\n",
    "data = urllib.parse.urlencode(values).encode('ascii')\n",
    "req = urllib.request.Request(url, data)\n",
    "\n",
    "# with urllib.request.urlopen(req) as response, open(file_name, 'wb') as out_file:\n",
    "#   shutil.copyfileobj(response, out_file\n",
    "# with urllib.request.urlopen(req) as response, open(file_name, 'wb') as out_file:\n",
    "#   data = response.read() # a `bytes` object\n",
    "#   out_file.write(data)\n",
    "\n",
    "with urllib.request.urlopen(req) as response:\n",
    "  match = re.search(\"filename=(.*)\\n\", str(response.info()))\n",
    "  my_filename = match.group(1)\n",
    "  out_file = open(my_filename, 'wb')\n",
    "  data = response.read()\n",
    "  out_file.write(data)\n",
    "    \n"
   ]
  },
  {
   "cell_type": "code",
   "execution_count": null,
   "metadata": {
    "collapsed": false
   },
   "outputs": [],
   "source": [
    "%ls"
   ]
  },
  {
   "cell_type": "code",
   "execution_count": null,
   "metadata": {
    "collapsed": false
   },
   "outputs": [],
   "source": [
    "from astropy.io import fits\n",
    "\n",
    "hdus = fits.open('acisf04634N003_cntr_img2.fits')\n",
    "print(hdus.info())\n",
    "image_data = hdus[0].data\n",
    "print(type(image_data))\n",
    "print(image_data.shape)\n",
    "hdus.close()\n",
    "\n",
    "%matplotlib inline\n",
    "plt.imshow(image_data, cmap='gray')\n",
    "# plt.imshow(img, origin = 'lower', vmin = -10, vmax = 65)\n",
    "plt.colorbar()\n",
    "print('Min:', np.min(image_data))\n",
    "print('Max:', np.max(image_data))\n",
    "print('Mean:', np.mean(image_data))\n",
    "print('Stdev:', np.std(image_data))"
   ]
  },
  {
   "cell_type": "code",
   "execution_count": null,
   "metadata": {
    "collapsed": true
   },
   "outputs": [],
   "source": []
  }
 ],
 "metadata": {
  "kernelspec": {
   "display_name": "Python 3",
   "language": "python",
   "name": "python3"
  },
  "language_info": {
   "codemirror_mode": {
    "name": "ipython",
    "version": 3
   },
   "file_extension": ".py",
   "mimetype": "text/x-python",
   "name": "python",
   "nbconvert_exporter": "python",
   "pygments_lexer": "ipython3",
   "version": "3.5.2"
  }
 },
 "nbformat": 4,
 "nbformat_minor": 1
}
